{
 "cells": [
  {
   "metadata": {},
   "cell_type": "markdown",
   "source": [
    "# Import"
   ],
   "id": "5546d794e6d30458"
  },
  {
   "metadata": {
    "is_executing": true
   },
   "cell_type": "code",
   "source": [
    "import random\n",
    "import scipy.io\n",
    "import pandas as pd\n",
    "import numpy as np\n",
    "import matplotlib.pylab as plt\n",
    "from sklearn.utils import resample"
   ],
   "id": "c32194acf439d187",
   "outputs": [],
   "execution_count": null
  },
  {
   "metadata": {},
   "cell_type": "markdown",
   "source": [
    "# Upload Data"
   ],
   "id": "ab1644b8030dcacb"
  },
  {
   "metadata": {
    "is_executing": true
   },
   "cell_type": "code",
   "source": [
    "address  = '../../Dataset/'\n",
    "train_df = pd.read_csv(address + 'mitbih_train.csv', header=None)"
   ],
   "id": "81f13645f11157b0",
   "outputs": [],
   "execution_count": null
  },
  {
   "metadata": {},
   "cell_type": "markdown",
   "source": [
    "# Resample"
   ],
   "id": "d5fb7276f6d95067"
  },
  {
   "metadata": {
    "is_executing": true
   },
   "cell_type": "code",
   "source": [
    "df_1 = train_df[train_df[187] == 1]\n",
    "df_2 = train_df[train_df[187] == 2]\n",
    "df_3 = train_df[train_df[187] == 3]\n",
    "df_4 = train_df[train_df[187] == 4]\n",
    "df_0 = (train_df[train_df[187] == 0]).sample(n=20000, random_state=42)\n",
    "\n",
    "df_1_upsample = resample(df_1, replace=True, n_samples=20000, random_state=123)\n",
    "df_2_upsample = resample(df_2, replace=True, n_samples=20000, random_state=124)\n",
    "df_3_upsample = resample(df_3, replace=True, n_samples=20000, random_state=125)\n",
    "df_4_upsample = resample(df_4, replace=True, n_samples=20000, random_state=126)\n",
    "\n",
    "train_df = pd.concat([df_0, df_1_upsample, df_2_upsample, df_3_upsample, df_4_upsample])\n",
    "\n",
    "equilibre = train_df[187].value_counts()\n",
    "print(equilibre)"
   ],
   "id": "8e22d142124d0f3b",
   "outputs": [],
   "execution_count": null
  },
  {
   "metadata": {
    "is_executing": true
   },
   "cell_type": "code",
   "source": [
    "sample = train_df.iloc[1000, 5:133]\n",
    "\n",
    "plt.plot(sample)\n",
    "plt.show()"
   ],
   "id": "bcaae23e80d4d8f5",
   "outputs": [],
   "execution_count": null
  },
  {
   "metadata": {},
   "cell_type": "markdown",
   "source": [
    "# Add noise"
   ],
   "id": "2e605c8e792b6bd6"
  },
  {
   "metadata": {
    "is_executing": true
   },
   "cell_type": "code",
   "source": [
    "bwm = scipy.io.loadmat(address + 'bwm.mat')['val'][0, :]\n",
    "emm = scipy.io.loadmat(address + 'emm.mat')['val'][0, :]\n",
    "mam = scipy.io.loadmat(address + 'mam.mat')['val'][0, :]\n",
    "\n",
    "plt.plot(bwm[0:1000])\n",
    "plt.show()\n",
    "plt.plot(emm[0:1000])\n",
    "plt.show()\n",
    "plt.plot(mam[0:1000])\n",
    "plt.show()"
   ],
   "id": "c9fcac75374d87f0",
   "outputs": [],
   "execution_count": null
  },
  {
   "metadata": {
    "is_executing": true
   },
   "cell_type": "code",
   "source": [
    "bwm = 2 * ((bwm - bwm.min())/(bwm.max() - bwm.min())) - 1\n",
    "emm = 0.5 * (emm - emm.min())/(emm.max() - emm.min())\n",
    "mam = (mam - mam.min())/(mam.max() - mam.min())\n",
    "rdm = np.random.randint(100, size=(128))\n",
    "rdm = 0.1 * ((rdm - rdm.min())/(rdm.max() - rdm.min()))\n",
    "\n",
    "plt.plot(bwm)\n",
    "plt.show()\n",
    "plt.plot(emm)\n",
    "plt.show()\n",
    "plt.plot(mam)\n",
    "plt.show()\n",
    "plt.plot(rdm)\n",
    "plt.show()"
   ],
   "id": "bc5fe8e93ed7793f",
   "outputs": [],
   "execution_count": null
  },
  {
   "metadata": {
    "is_executing": true
   },
   "cell_type": "code",
   "source": [
    "start = random.randint(0, 640000) \n",
    "\n",
    "# 0, 1, 2, 3\n",
    "bwm_factor = 0\n",
    "emm_factor = 0\n",
    "mam_factor = 0\n",
    "rdm_factor = 0\n",
    "\n",
    "noisy_sample = sample + bwm[start:start+128] * bwm_factor + emm[start:start+128] * emm_factor + mam[start:start+128] * mam_factor + rdm_factor * rdm\n",
    "\n",
    "plt.plot(noisy_sample)\n",
    "plt.show()\n",
    "\n",
    "# 0, 1, 2, 3\n",
    "bwm_factor = 1\n",
    "emm_factor = 1\n",
    "mam_factor = 1\n",
    "rdm_factor = 1\n",
    "\n",
    "noisy_sample = sample + bwm[start:start+128] * bwm_factor + emm[start:start+128] * emm_factor + mam[start:start+128] * mam_factor + rdm_factor * rdm\n",
    "\n",
    "plt.plot(noisy_sample)\n",
    "plt.show()\n",
    "\n",
    "# 0, 1, 2, 3\n",
    "bwm_factor = 2\n",
    "emm_factor = 2\n",
    "mam_factor = 2\n",
    "rdm_factor = 2\n",
    "\n",
    "noisy_sample = sample + bwm[start:start+128] * bwm_factor + emm[start:start+128] * emm_factor + mam[start:start+128] * mam_factor + rdm_factor * rdm\n",
    "\n",
    "plt.plot(noisy_sample)\n",
    "plt.show()\n",
    "\n",
    "# 0, 1, 2, 3\n",
    "bwm_factor = 3\n",
    "emm_factor = 3\n",
    "mam_factor = 3\n",
    "rdm_factor = 3\n",
    "\n",
    "noisy_sample = sample + bwm[start:start+128] * bwm_factor + emm[start:start+128] * emm_factor + mam[start:start+128] * mam_factor + rdm_factor * rdm\n",
    "\n",
    "plt.plot(noisy_sample)\n",
    "plt.show()"
   ],
   "id": "c0e121e29df8a0de",
   "outputs": [],
   "execution_count": null
  }
 ],
 "metadata": {
  "kernelspec": {
   "display_name": "Python 3",
   "language": "python",
   "name": "python3"
  },
  "language_info": {
   "codemirror_mode": {
    "name": "ipython",
    "version": 2
   },
   "file_extension": ".py",
   "mimetype": "text/x-python",
   "name": "python",
   "nbconvert_exporter": "python",
   "pygments_lexer": "ipython2",
   "version": "2.7.6"
  }
 },
 "nbformat": 4,
 "nbformat_minor": 5
}
